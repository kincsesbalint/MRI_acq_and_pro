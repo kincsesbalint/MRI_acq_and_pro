{
 "cells": [
  {
   "cell_type": "code",
   "execution_count": 1,
   "metadata": {
    "collapsed": true
   },
   "outputs": [],
   "source": [
    "\"\"\"Convert minc to nifti format.\"\"\"\n",
    "# This is copied from here: https://gist.github.com/ofgulban/46d5c51ea010611cbb53123bb5906ca9\n",
    "import os\n",
    "import numpy as np\n",
    "from nibabel import load, save, Nifti1Image"
   ]
  },
  {
   "cell_type": "code",
   "execution_count": 2,
   "outputs": [],
   "source": [
    "minc = load(\"/home/balint/DATA/vmpfc_atlas/1_symmetric_area11m_left_MNI.mnc\")\n",
    "basename = minc.get_filename().split(os.extsep, 1)[0]"
   ],
   "metadata": {
    "collapsed": false,
    "pycharm": {
     "name": "#%%\n"
    }
   }
  },
  {
   "cell_type": "code",
   "execution_count": 7,
   "outputs": [
    {
     "data": {
      "text/plain": "array([[   0.   ,    0.   ,    1.   ,  -86.095],\n       [   0.   ,    1.   ,    0.   , -126.51 ],\n       [   1.   ,    0.   ,    0.   ,  -68.25 ],\n       [   0.   ,    0.   ,    0.   ,    1.   ]])"
     },
     "execution_count": 7,
     "metadata": {},
     "output_type": "execute_result"
    }
   ],
   "source": [
    "minc.affine"
   ],
   "metadata": {
    "collapsed": false,
    "pycharm": {
     "name": "#%%\n"
    }
   }
  },
  {
   "cell_type": "code",
   "execution_count": 9,
   "outputs": [],
   "source": [
    "#affine = np.array([[0, 0, 1, 0],\n",
    "#                   [0, 1, 0, 0],\n",
    "#                   [1, 0, 0, 0],\n",
    "#                   [0, 0, 0, 1]])\n",
    "\n",
    "out = Nifti1Image(minc.get_fdata(), affine=minc.affine)\n",
    "save(out, basename + '.nii.gz')\n"
   ],
   "metadata": {
    "collapsed": false,
    "pycharm": {
     "name": "#%%\n"
    }
   }
  }
 ],
 "metadata": {
  "kernelspec": {
   "display_name": "Python 3",
   "language": "python",
   "name": "python3"
  },
  "language_info": {
   "codemirror_mode": {
    "name": "ipython",
    "version": 2
   },
   "file_extension": ".py",
   "mimetype": "text/x-python",
   "name": "python",
   "nbconvert_exporter": "python",
   "pygments_lexer": "ipython2",
   "version": "2.7.6"
  }
 },
 "nbformat": 4,
 "nbformat_minor": 0
}